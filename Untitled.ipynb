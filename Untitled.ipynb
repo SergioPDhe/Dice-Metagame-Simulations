{
 "cells": [
  {
   "cell_type": "code",
   "execution_count": 1,
   "id": "38dcf29c-d5fd-48d2-961e-6fd796855e5e",
   "metadata": {},
   "outputs": [],
   "source": [
    "import nashpy as nash\n",
    "import numpy as np"
   ]
  },
  {
   "cell_type": "code",
   "execution_count": 41,
   "id": "7f7a9669-fa42-42a8-af67-ed4862b9cac6",
   "metadata": {},
   "outputs": [
    {
     "name": "stdout",
     "output_type": "stream",
     "text": [
      "[(array([1., 0.]), array([1., 0.])), (array([0., 1.]), array([0., 1.])), (array([0.66666667, 0.33333333]), array([0.33333333, 0.66666667]))]\n"
     ]
    }
   ],
   "source": [
    "a = 0\n",
    "\n",
    "A = np.array([[-2,a],[a,-1]])\n",
    "B = np.array([[-1,a],[a,-2]])\n",
    "\n",
    "A_min = A*-1\n",
    "B_min = B*-1\n",
    "\n",
    "Game1 = nash.Game(A_min,B_min)\n",
    "sq = Game1.support_enumeration()\n",
    "eqs = list(sq)\n",
    "print(eqs)"
   ]
  },
  {
   "cell_type": "code",
   "execution_count": 42,
   "id": "0f02af27-5a31-4497-b9ed-38906488c130",
   "metadata": {},
   "outputs": [
    {
     "name": "stdout",
     "output_type": "stream",
     "text": [
      "0.4444444444444444\n"
     ]
    }
   ],
   "source": [
    "p1, p2 = eqs[2]\n",
    "\n",
    "same = (p1[0]*p2[0]) + (p1[1]*p2[1])\n",
    "\n",
    "print(same)"
   ]
  },
  {
   "cell_type": "code",
   "execution_count": 7,
   "id": "f6344efd-fb2e-4185-be73-f7767d38b19d",
   "metadata": {},
   "outputs": [
    {
     "data": {
      "text/plain": [
       "array([[2, 0],\n",
       "       [0, 1]])"
      ]
     },
     "execution_count": 7,
     "metadata": {},
     "output_type": "execute_result"
    }
   ],
   "source": [
    "A_min"
   ]
  },
  {
   "cell_type": "code",
   "execution_count": null,
   "id": "00e494e6-e437-4a4c-8ecc-4eab8bb3589c",
   "metadata": {},
   "outputs": [],
   "source": [
    "A2 = np.array([[-1, 1, -3],[-3, -5,3]])\n",
    "A_min = -A2\n",
    "Game2 = nash.Game(A2)"
   ]
  },
  {
   "cell_type": "code",
   "execution_count": null,
   "id": "8235f228-d0f9-4880-9828-5b17b59f1dc6",
   "metadata": {},
   "outputs": [],
   "source": []
  },
  {
   "cell_type": "code",
   "execution_count": null,
   "id": "03a0f307-7c4d-4fdb-ac28-8c6306842251",
   "metadata": {},
   "outputs": [],
   "source": [
    "A = np.array([[10,-2],[-1,1]])\n",
    "B = np.array([[-5,2],[1,-1]])\n",
    "\n",
    "A_min = -A\n",
    "B_min = -B\n",
    "\n",
    "Game4 = nash.Game(A_min,B_min)\n",
    "Game5 = nash.Game(A_,B_min)"
   ]
  },
  {
   "cell_type": "code",
   "execution_count": null,
   "id": "a2ad6dc7-97e7-49af-8cd2-239fdebf6631",
   "metadata": {},
   "outputs": [],
   "source": [
    "eq4a = Game4.support_enumeration()\n",
    "list(eq4a)"
   ]
  },
  {
   "cell_type": "code",
   "execution_count": null,
   "id": "0d8d8c90-967e-4615-aeca-e5f3bdcda9ca",
   "metadata": {},
   "outputs": [],
   "source": [
    "eq4b = Game5.support_enumeration()\n",
    "list(eq4b)"
   ]
  },
  {
   "cell_type": "code",
   "execution_count": null,
   "id": "49b7ea64-ccdf-4f52-b61e-48b03cff2050",
   "metadata": {},
   "outputs": [],
   "source": [
    "Game5"
   ]
  },
  {
   "cell_type": "code",
   "execution_count": null,
   "id": "7500c8a2-0e5a-4e90-88a9-a3aa89e65c39",
   "metadata": {},
   "outputs": [],
   "source": []
  },
  {
   "cell_type": "code",
   "execution_count": null,
   "id": "3b5647cc-7ed9-41b2-b88a-0f49ddccbbd6",
   "metadata": {},
   "outputs": [],
   "source": []
  }
 ],
 "metadata": {
  "kernelspec": {
   "display_name": "Python 3",
   "language": "python",
   "name": "python3"
  },
  "language_info": {
   "codemirror_mode": {
    "name": "ipython",
    "version": 3
   },
   "file_extension": ".py",
   "mimetype": "text/x-python",
   "name": "python",
   "nbconvert_exporter": "python",
   "pygments_lexer": "ipython3",
   "version": "3.8.8"
  }
 },
 "nbformat": 4,
 "nbformat_minor": 5
}
