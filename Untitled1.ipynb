{
 "cells": [
  {
   "cell_type": "code",
   "execution_count": 1,
   "id": "897fea1a-ded6-42f9-ba57-5fe056b9088e",
   "metadata": {},
   "outputs": [],
   "source": [
    "import numpy as np"
   ]
  },
  {
   "cell_type": "code",
   "execution_count": 2,
   "id": "cfc59b1e-e492-4679-8a57-fca8e5104504",
   "metadata": {},
   "outputs": [],
   "source": [
    "A = np.array([[4,0,0],[0,1,0],[0,0,1]])"
   ]
  },
  {
   "cell_type": "code",
   "execution_count": 3,
   "id": "60b24407-995d-4d55-9ab0-ab6877afa4cf",
   "metadata": {},
   "outputs": [],
   "source": [
    "B = np.array([[4],[5],[6]])"
   ]
  },
  {
   "cell_type": "code",
   "execution_count": 4,
   "id": "df7a8b2c-e0a1-4857-8479-732fabb7cfa1",
   "metadata": {},
   "outputs": [
    {
     "data": {
      "text/plain": [
       "array([[4, 5, 6]])"
      ]
     },
     "execution_count": 4,
     "metadata": {},
     "output_type": "execute_result"
    }
   ],
   "source": [
    "B.transpose()"
   ]
  },
  {
   "cell_type": "code",
   "execution_count": 5,
   "id": "c15b7644-e7a1-46d8-8c8c-d16bf796c41c",
   "metadata": {},
   "outputs": [
    {
     "data": {
      "text/plain": [
       "array([[16,  5,  6]])"
      ]
     },
     "execution_count": 5,
     "metadata": {},
     "output_type": "execute_result"
    }
   ],
   "source": [
    "np.matmul(B.transpose(),A)"
   ]
  },
  {
   "cell_type": "code",
   "execution_count": 15,
   "id": "fad83486-45b2-4e65-86c2-10c2383a8a4e",
   "metadata": {},
   "outputs": [],
   "source": [
    "B=A.copy()"
   ]
  },
  {
   "cell_type": "code",
   "execution_count": 14,
   "id": "3c1ac6a8-e8d9-401e-9638-30fb72d429f7",
   "metadata": {},
   "outputs": [
    {
     "data": {
      "text/plain": [
       "array([[ 4,  0,  0],\n",
       "       [ 0, 44,  0],\n",
       "       [ 0,  0,  1]])"
      ]
     },
     "execution_count": 14,
     "metadata": {},
     "output_type": "execute_result"
    }
   ],
   "source": [
    "A.copy()"
   ]
  },
  {
   "cell_type": "code",
   "execution_count": 16,
   "id": "f4b30314-3648-4db8-a310-056a44d0eb5b",
   "metadata": {},
   "outputs": [
    {
     "data": {
      "text/plain": [
       "array([[ 4,  0,  0],\n",
       "       [ 0, 44,  0],\n",
       "       [ 0,  0,  1]])"
      ]
     },
     "execution_count": 16,
     "metadata": {},
     "output_type": "execute_result"
    }
   ],
   "source": [
    "B"
   ]
  },
  {
   "cell_type": "code",
   "execution_count": 17,
   "id": "91359b2c-1f4a-4125-8d0b-3d20f2c6c881",
   "metadata": {},
   "outputs": [],
   "source": [
    "B[1,1] = 123"
   ]
  },
  {
   "cell_type": "code",
   "execution_count": 18,
   "id": "a04fc40b-8703-4341-b7d3-1cd99ff4feba",
   "metadata": {},
   "outputs": [
    {
     "data": {
      "text/plain": [
       "array([[ 4,  0,  0],\n",
       "       [ 0, 44,  0],\n",
       "       [ 0,  0,  1]])"
      ]
     },
     "execution_count": 18,
     "metadata": {},
     "output_type": "execute_result"
    }
   ],
   "source": [
    "A"
   ]
  },
  {
   "cell_type": "code",
   "execution_count": 19,
   "id": "948aef91-cdc2-499d-b8dd-98820515c5bf",
   "metadata": {},
   "outputs": [
    {
     "data": {
      "text/plain": [
       "array([[  4,   0,   0],\n",
       "       [  0, 123,   0],\n",
       "       [  0,   0,   1]])"
      ]
     },
     "execution_count": 19,
     "metadata": {},
     "output_type": "execute_result"
    }
   ],
   "source": [
    "B"
   ]
  },
  {
   "cell_type": "code",
   "execution_count": null,
   "id": "602fd263-75a2-4127-815b-d6399e10e066",
   "metadata": {},
   "outputs": [],
   "source": []
  }
 ],
 "metadata": {
  "kernelspec": {
   "display_name": "Python 3",
   "language": "python",
   "name": "python3"
  },
  "language_info": {
   "codemirror_mode": {
    "name": "ipython",
    "version": 3
   },
   "file_extension": ".py",
   "mimetype": "text/x-python",
   "name": "python",
   "nbconvert_exporter": "python",
   "pygments_lexer": "ipython3",
   "version": "3.8.8"
  }
 },
 "nbformat": 4,
 "nbformat_minor": 5
}
